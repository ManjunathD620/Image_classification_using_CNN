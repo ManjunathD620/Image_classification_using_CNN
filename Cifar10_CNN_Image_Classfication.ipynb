{
  "nbformat": 4,
  "nbformat_minor": 0,
  "metadata": {
    "colab": {
      "name": "Cifar10_CNN_Image_Classfication.ipynb",
      "provenance": [],
      "collapsed_sections": [],
      "include_colab_link": true
    },
    "kernelspec": {
      "display_name": "Python 3",
      "name": "python3"
    },
    "language_info": {
      "name": "python"
    }
  },
  "cells": [
    {
      "cell_type": "markdown",
      "metadata": {
        "id": "view-in-github",
        "colab_type": "text"
      },
      "source": [
        "<a href=\"https://colab.research.google.com/github/ManjunathD620/Image_classification_using_CNN/blob/main/Cifar10_CNN_Image_Classfication.ipynb\" target=\"_parent\"><img src=\"https://colab.research.google.com/assets/colab-badge.svg\" alt=\"Open In Colab\"/></a>"
      ]
    },
    {
      "cell_type": "code",
      "metadata": {
        "id": "Ljv3tO_xnNaW"
      },
      "source": [
        "from tensorflow.keras import datasets,layers,models\n",
        "import matplotlib.pyplot as plt\n",
        "import numpy as np"
      ],
      "execution_count": 1,
      "outputs": []
    },
    {
      "cell_type": "code",
      "metadata": {
        "colab": {
          "base_uri": "https://localhost:8080/"
        },
        "id": "xc3-tOBcpaZk",
        "outputId": "e3ddcccf-af10-4043-be5d-eedad2590bf0"
      },
      "source": [
        "(x_train,y_train),(x_test,y_test) = datasets.cifar10.load_data()"
      ],
      "execution_count": 2,
      "outputs": [
        {
          "output_type": "stream",
          "name": "stdout",
          "text": [
            "Downloading data from https://www.cs.toronto.edu/~kriz/cifar-10-python.tar.gz\n",
            "170500096/170498071 [==============================] - 2s 0us/step\n",
            "170508288/170498071 [==============================] - 2s 0us/step\n"
          ]
        }
      ]
    },
    {
      "cell_type": "code",
      "metadata": {
        "colab": {
          "base_uri": "https://localhost:8080/"
        },
        "id": "U58v-L69pyFM",
        "outputId": "50cff4b4-becf-4704-a0e6-50f57bbc7685"
      },
      "source": [
        "x_train.shape"
      ],
      "execution_count": 3,
      "outputs": [
        {
          "output_type": "execute_result",
          "data": {
            "text/plain": [
              "(50000, 32, 32, 3)"
            ]
          },
          "metadata": {},
          "execution_count": 3
        }
      ]
    },
    {
      "cell_type": "code",
      "metadata": {
        "id": "zijWs0-wtC8A"
      },
      "source": [
        "y_train = y_train.reshape(-1,)"
      ],
      "execution_count": 4,
      "outputs": []
    },
    {
      "cell_type": "code",
      "metadata": {
        "colab": {
          "base_uri": "https://localhost:8080/"
        },
        "id": "cXpYqOfpp3Ta",
        "outputId": "f8bc0041-a33e-4eae-fd25-7a8d24da8b81"
      },
      "source": [
        "x_test.shape"
      ],
      "execution_count": 5,
      "outputs": [
        {
          "output_type": "execute_result",
          "data": {
            "text/plain": [
              "(10000, 32, 32, 3)"
            ]
          },
          "metadata": {},
          "execution_count": 5
        }
      ]
    },
    {
      "cell_type": "code",
      "metadata": {
        "id": "t_7CINUCp7L_"
      },
      "source": [
        "x_train = x_train/255.0\n",
        "x_test = x_test/255.0"
      ],
      "execution_count": 6,
      "outputs": []
    },
    {
      "cell_type": "code",
      "metadata": {
        "id": "beG5RDMcqGJ7"
      },
      "source": [
        "img_model = models.Sequential([\n",
        "                               layers.Conv2D(filters=50,kernel_size=(3,3),activation='relu',input_shape = (32,32,3)),\n",
        "                               layers.MaxPooling2D((2,2)),\n",
        "                               layers.Conv2D(filters=50,kernel_size=(3,3),activation='relu'),\n",
        "                               layers.MaxPooling2D((2,2)),\n",
        "                               layers.Conv2D(filters=50,kernel_size=(3,3),activation='relu'),\n",
        "                               layers.MaxPooling2D((2,2)),\n",
        "\n",
        "                               layers.Flatten(),\n",
        "                               layers.Dense(100,activation='relu'),\n",
        "                               layers.Dense(10,activation='softmax')\n",
        "                               \n",
        "])\n",
        "\n"
      ],
      "execution_count": 7,
      "outputs": []
    },
    {
      "cell_type": "code",
      "metadata": {
        "id": "GXV2v70OrnUi"
      },
      "source": [
        "img_model.compile(\n",
        "    optimizer='adam',\n",
        "    loss = 'sparse_categorical_crossentropy',\n",
        "    metrics = ['accuracy']\n",
        ")"
      ],
      "execution_count": 8,
      "outputs": []
    },
    {
      "cell_type": "code",
      "metadata": {
        "colab": {
          "base_uri": "https://localhost:8080/"
        },
        "id": "Mxx9hWj0sVQH",
        "outputId": "35486360-cc03-47e4-aae4-ffe3a88685ef"
      },
      "source": [
        "img_model.fit(x_train, y_train, epochs=8,batch_size=200)"
      ],
      "execution_count": 9,
      "outputs": [
        {
          "output_type": "stream",
          "name": "stdout",
          "text": [
            "Epoch 1/8\n",
            "250/250 [==============================] - 72s 285ms/step - loss: 1.7577 - accuracy: 0.3544\n",
            "Epoch 2/8\n",
            "250/250 [==============================] - 68s 272ms/step - loss: 1.3835 - accuracy: 0.5031\n",
            "Epoch 3/8\n",
            "250/250 [==============================] - 68s 271ms/step - loss: 1.2555 - accuracy: 0.5534\n",
            "Epoch 4/8\n",
            "250/250 [==============================] - 67s 270ms/step - loss: 1.1685 - accuracy: 0.5894\n",
            "Epoch 5/8\n",
            "250/250 [==============================] - 67s 270ms/step - loss: 1.0930 - accuracy: 0.6152\n",
            "Epoch 6/8\n",
            "250/250 [==============================] - 67s 269ms/step - loss: 1.0383 - accuracy: 0.6367\n",
            "Epoch 7/8\n",
            "250/250 [==============================] - 67s 270ms/step - loss: 0.9863 - accuracy: 0.6578\n",
            "Epoch 8/8\n",
            "250/250 [==============================] - 67s 269ms/step - loss: 0.9411 - accuracy: 0.6729\n"
          ]
        },
        {
          "output_type": "execute_result",
          "data": {
            "text/plain": [
              "<keras.callbacks.History at 0x7fc63a9b71d0>"
            ]
          },
          "metadata": {},
          "execution_count": 9
        }
      ]
    },
    {
      "cell_type": "code",
      "metadata": {
        "id": "aopxmlex1FQl",
        "colab": {
          "base_uri": "https://localhost:8080/"
        },
        "outputId": "86113298-2219-4410-adb6-08a3a16b364f"
      },
      "source": [
        "img_model.evaluate(x_test,y_test)"
      ],
      "execution_count": 10,
      "outputs": [
        {
          "output_type": "stream",
          "name": "stdout",
          "text": [
            "313/313 [==============================] - 4s 14ms/step - loss: 0.9796 - accuracy: 0.6606\n"
          ]
        },
        {
          "output_type": "execute_result",
          "data": {
            "text/plain": [
              "[0.9796373844146729, 0.6606000065803528]"
            ]
          },
          "metadata": {},
          "execution_count": 10
        }
      ]
    },
    {
      "cell_type": "code",
      "metadata": {
        "id": "lth1bB0YH4-P",
        "colab": {
          "base_uri": "https://localhost:8080/",
          "height": 283
        },
        "outputId": "a378286c-d847-4458-d00f-c0b7103a6f36"
      },
      "source": [
        "import random\n",
        "import numpy as np\n",
        "labels = [\"airplane\",\"automobile\",\"bird\",\"cat\",\"deer\",\"dog\",\"frog\",\"horse\",\"ship\",\"truck\"]\n",
        "rand = random.randint(0,x_test.shape[0])\n",
        "subject = x_test[rand]\n",
        "plt.imshow(subject)\n",
        "subject = np.expand_dims(subject,axis=0)\n",
        "prediction = img_model.predict(subject)\n",
        "print(\"Predicted : \"+labels[np.argmax(prediction)])"
      ],
      "execution_count": 11,
      "outputs": [
        {
          "output_type": "stream",
          "name": "stdout",
          "text": [
            "Predicted : bird\n"
          ]
        },
        {
          "output_type": "display_data",
          "data": {
            "image/png": "[encoded data removed]",
            "text/plain": [
              "<Figure size 432x288 with 1 Axes>"
            ]
          },
          "metadata": {
            "needs_background": "light"
          }
        }
      ]
    }
  ]
}