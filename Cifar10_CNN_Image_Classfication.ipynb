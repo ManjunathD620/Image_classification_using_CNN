{
  "nbformat": 4,
  "nbformat_minor": 0,
  "metadata": {
    "colab": {
      "name": "Cifar10_CNN_Image_Classfication.ipynb",
      "provenance": [],
      "collapsed_sections": [],
      "include_colab_link": true
    },
    "kernelspec": {
      "display_name": "Python 3",
      "name": "python3"
    },
    "language_info": {
      "name": "python"
    }
  },
  "cells": [
    {
      "cell_type": "markdown",
      "metadata": {
        "id": "view-in-github",
        "colab_type": "text"
      },
      "source": [
        "<a href=\"https://colab.research.google.com/github/ManjunathD620/Image_classification_using_CNN/blob/main/Cifar10_CNN_Image_Classfication.ipynb\" target=\"_parent\"><img src=\"https://colab.research.google.com/assets/colab-badge.svg\" alt=\"Open In Colab\"/></a>"
      ]
    },
    {
      "cell_type": "code",
      "metadata": {
        "id": "Ljv3tO_xnNaW"
      },
      "source": [
        "from tensorflow.keras import datasets,layers,models\n",
        "import matplotlib.pyplot as plt\n",
        "import numpy as np"
      ],
      "execution_count": null,
      "outputs": []
    },
    {
      "cell_type": "code",
      "metadata": {
        "colab": {
          "base_uri": "https://localhost:8080/"
        },
        "id": "xc3-tOBcpaZk",
        "outputId": "2314042b-a3f0-43dd-bac3-0da3da5af3fb"
      },
      "source": [
        "(x_train,y_train),(x_test,y_test) = datasets.cifar10.load_data()"
      ],
      "execution_count": null,
      "outputs": [
        {
          "output_type": "stream",
          "name": "stdout",
          "text": [
            "Downloading data from https://www.cs.toronto.edu/~kriz/cifar-10-python.tar.gz\n",
            "170500096/170498071 [==============================] - 2s 0us/step\n",
            "170508288/170498071 [==============================] - 2s 0us/step\n"
          ]
        }
      ]
    },
    {
      "cell_type": "code",
      "metadata": {
        "colab": {
          "base_uri": "https://localhost:8080/"
        },
        "id": "U58v-L69pyFM",
        "outputId": "25bc8ce4-c9a1-4834-815f-0e3fa5171fdd"
      },
      "source": [
        "x_train.shape"
      ],
      "execution_count": null,
      "outputs": [
        {
          "output_type": "execute_result",
          "data": {
            "text/plain": [
              "(50000, 32, 32, 3)"
            ]
          },
          "metadata": {},
          "execution_count": 3
        }
      ]
    },
    {
      "cell_type": "code",
      "metadata": {
        "id": "zijWs0-wtC8A"
      },
      "source": [
        "y_train = y_train.reshape(-1,)"
      ],
      "execution_count": null,
      "outputs": []
    },
    {
      "cell_type": "code",
      "metadata": {
        "colab": {
          "base_uri": "https://localhost:8080/"
        },
        "id": "cXpYqOfpp3Ta",
        "outputId": "77e32e21-e7ee-4e3a-af90-d7232ea8a758"
      },
      "source": [
        "x_test.shape"
      ],
      "execution_count": null,
      "outputs": [
        {
          "output_type": "execute_result",
          "data": {
            "text/plain": [
              "(10000, 32, 32, 3)"
            ]
          },
          "metadata": {},
          "execution_count": 5
        }
      ]
    },
    {
      "cell_type": "code",
      "metadata": {
        "id": "t_7CINUCp7L_"
      },
      "source": [
        "x_train = x_train/255.0\n",
        "x_test = x_test/255.0"
      ],
      "execution_count": null,
      "outputs": []
    },
    {
      "cell_type": "code",
      "metadata": {
        "id": "beG5RDMcqGJ7"
      },
      "source": [
        "img_model = models.Sequential([\n",
        "                               layers.Conv2D(filters=50,kernel_size=(3,3),activation='relu',input_shape = (32,32,3)),\n",
        "                               layers.MaxPooling2D((2,2)),\n",
        "                               layers.Conv2D(filters=50,kernel_size=(3,3),activation='relu'),\n",
        "                               layers.MaxPooling2D((2,2)),\n",
        "                               layers.Conv2D(filters=50,kernel_size=(3,3),activation='relu'),\n",
        "                               layers.MaxPooling2D((2,2)),\n",
        "\n",
        "                               layers.Flatten(),\n",
        "                               layers.Dense(100,activation='relu'),\n",
        "                               layers.Dense(10,activation='softmax')\n",
        "                               \n",
        "])\n",
        "\n"
      ],
      "execution_count": null,
      "outputs": []
    },
    {
      "cell_type": "code",
      "metadata": {
        "id": "GXV2v70OrnUi"
      },
      "source": [
        "img_model.compile(\n",
        "    optimizer='adam',\n",
        "    loss = 'sparse_categorical_crossentropy',\n",
        "    metrics = ['accuracy']\n",
        ")"
      ],
      "execution_count": null,
      "outputs": []
    },
    {
      "cell_type": "code",
      "metadata": {
        "colab": {
          "base_uri": "https://localhost:8080/"
        },
        "id": "Mxx9hWj0sVQH",
        "outputId": "70eafb45-a68c-4a0e-c606-aa457d9565c6"
      },
      "source": [
        "img_model.fit(x_train, y_train, epochs=10,batch_size=200)"
      ],
      "execution_count": null,
      "outputs": [
        {
          "output_type": "stream",
          "name": "stdout",
          "text": [
            "Epoch 1/10\n",
            " 88/250 [=========>....................] - ETA: 49s - loss: 1.9910 - accuracy: 0.2697"
          ]
        }
      ]
    },
    {
      "cell_type": "code",
      "metadata": {
        "id": "aopxmlex1FQl"
      },
      "source": [
        "img_model.evaluate(x_test,y_test)"
      ],
      "execution_count": null,
      "outputs": []
    },
    {
      "cell_type": "code",
      "metadata": {
        "id": "lth1bB0YH4-P"
      },
      "source": [
        "import random\n",
        "import numpy as np\n",
        "labels = [\"airplane\",\"automobile\",\"bird\",\"cat\",\"deer\",\"dog\",\"frog\",\"horse\",\"ship\",\"truck\"]\n",
        "rand = random.randint(0,x_test.shape[0])\n",
        "subject = x_test[rand]\n",
        "plt.imshow(subject)\n",
        "subject = np.expand_dims(subject,axis=0)\n",
        "prediction = img_model.predict(subject)\n",
        "print(\"Predicted : \"+labels[np.argmax(prediction)])"
      ],
      "execution_count": null,
      "outputs": []
    }
  ]
}